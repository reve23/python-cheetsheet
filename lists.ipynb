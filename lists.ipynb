{
 "cells": [
  {
   "cell_type": "markdown",
   "id": "061b022f",
   "metadata": {},
   "source": [
    "#### Lists are ordered sequences that can hold a variety of object types"
   ]
  },
  {
   "cell_type": "code",
   "execution_count": 1,
   "id": "b84b9e4f",
   "metadata": {},
   "outputs": [
    {
     "data": {
      "text/plain": [
       "4"
      ]
     },
     "execution_count": 1,
     "metadata": {},
     "output_type": "execute_result"
    }
   ],
   "source": [
    "my_list = [1,2,3]\n",
    "my_list = [\"string\",100,12.56,False]\n",
    "len(my_list)"
   ]
  },
  {
   "cell_type": "code",
   "execution_count": 2,
   "id": "f58f7bd1",
   "metadata": {},
   "outputs": [
    {
     "data": {
      "text/plain": [
       "'one'"
      ]
     },
     "execution_count": 2,
     "metadata": {},
     "output_type": "execute_result"
    }
   ],
   "source": [
    "#indexing\n",
    "my_list = ['one','two','three']\n",
    "my_list[0]"
   ]
  },
  {
   "cell_type": "code",
   "execution_count": 4,
   "id": "277404ae",
   "metadata": {},
   "outputs": [
    {
     "data": {
      "text/plain": [
       "['two', 'three']"
      ]
     },
     "execution_count": 4,
     "metadata": {},
     "output_type": "execute_result"
    }
   ],
   "source": [
    "#slicing\n",
    "my_list[1:]"
   ]
  },
  {
   "cell_type": "code",
   "execution_count": 7,
   "id": "69309b03",
   "metadata": {},
   "outputs": [
    {
     "data": {
      "text/plain": [
       "['one', 'two', 'three', 'four', 'five']"
      ]
     },
     "execution_count": 7,
     "metadata": {},
     "output_type": "execute_result"
    }
   ],
   "source": [
    "#concatinating\n",
    "another_list = ['four','five']\n",
    "new_list = my_list + another_list\n",
    "new_list"
   ]
  },
  {
   "cell_type": "code",
   "execution_count": 8,
   "id": "bcd97374",
   "metadata": {},
   "outputs": [],
   "source": [
    "new_list[0] = 'One all caps'"
   ]
  },
  {
   "cell_type": "code",
   "execution_count": 9,
   "id": "0abbb992",
   "metadata": {},
   "outputs": [
    {
     "data": {
      "text/plain": [
       "['One all caps', 'two', 'three', 'four', 'five']"
      ]
     },
     "execution_count": 9,
     "metadata": {},
     "output_type": "execute_result"
    }
   ],
   "source": [
    "new_list"
   ]
  },
  {
   "cell_type": "code",
   "execution_count": 14,
   "id": "0e4a5c79",
   "metadata": {},
   "outputs": [],
   "source": [
    "#place any item at the end\n",
    "new_list.append(True)"
   ]
  },
  {
   "cell_type": "code",
   "execution_count": 15,
   "id": "7cd49bcf",
   "metadata": {},
   "outputs": [
    {
     "data": {
      "text/plain": [
       "['One all caps', 'two', 'three', 'four', 'five', True]"
      ]
     },
     "execution_count": 15,
     "metadata": {},
     "output_type": "execute_result"
    }
   ],
   "source": [
    "new_list"
   ]
  },
  {
   "cell_type": "code",
   "execution_count": 16,
   "id": "6455c14e",
   "metadata": {},
   "outputs": [
    {
     "data": {
      "text/plain": [
       "True"
      ]
     },
     "execution_count": 16,
     "metadata": {},
     "output_type": "execute_result"
    }
   ],
   "source": [
    "new_list.pop()"
   ]
  },
  {
   "cell_type": "code",
   "execution_count": 17,
   "id": "2c5875c6",
   "metadata": {},
   "outputs": [
    {
     "data": {
      "text/plain": [
       "['One all caps', 'two', 'three', 'four', 'five']"
      ]
     },
     "execution_count": 17,
     "metadata": {},
     "output_type": "execute_result"
    }
   ],
   "source": [
    "new_list"
   ]
  },
  {
   "cell_type": "code",
   "execution_count": 18,
   "id": "1efe773e",
   "metadata": {},
   "outputs": [
    {
     "data": {
      "text/plain": [
       "'five'"
      ]
     },
     "execution_count": 18,
     "metadata": {},
     "output_type": "execute_result"
    }
   ],
   "source": [
    "#remove certain item\n",
    "new_list.pop(4)"
   ]
  },
  {
   "cell_type": "code",
   "execution_count": 20,
   "id": "70469f13",
   "metadata": {},
   "outputs": [],
   "source": [
    "new_list_popped = new_list.pop(3)"
   ]
  },
  {
   "cell_type": "code",
   "execution_count": 21,
   "id": "593b8846",
   "metadata": {},
   "outputs": [
    {
     "data": {
      "text/plain": [
       "'four'"
      ]
     },
     "execution_count": 21,
     "metadata": {},
     "output_type": "execute_result"
    }
   ],
   "source": [
    "new_list_popped"
   ]
  },
  {
   "cell_type": "code",
   "execution_count": 29,
   "id": "ff2f5863",
   "metadata": {},
   "outputs": [],
   "source": [
    "list_ = ['a','b','x','d','e','f']\n",
    "num = [1,2,78,90,34,24,20,3,0,47]\n",
    "list_.sort()\n",
    "num.sort()\n",
    "list__ = num\n",
    "sorted_list = list_"
   ]
  },
  {
   "cell_type": "code",
   "execution_count": 30,
   "id": "4fccebcb",
   "metadata": {},
   "outputs": [
    {
     "data": {
      "text/plain": [
       "['a', 'b', 'd', 'e', 'f', 'x']"
      ]
     },
     "execution_count": 30,
     "metadata": {},
     "output_type": "execute_result"
    }
   ],
   "source": [
    "sorted_list"
   ]
  },
  {
   "cell_type": "code",
   "execution_count": 35,
   "id": "04e4ec9e",
   "metadata": {},
   "outputs": [
    {
     "data": {
      "text/plain": [
       "[0, 1, 2, 3, 20, 24, 34, 47, 78, 90]"
      ]
     },
     "execution_count": 35,
     "metadata": {},
     "output_type": "execute_result"
    }
   ],
   "source": [
    "list__"
   ]
  },
  {
   "cell_type": "code",
   "execution_count": 34,
   "id": "6495142d",
   "metadata": {},
   "outputs": [
    {
     "data": {
      "text/plain": [
       "[0, 1, 2, 3, 20, 24, 34, 47, 78, 90]"
      ]
     },
     "execution_count": 34,
     "metadata": {},
     "output_type": "execute_result"
    }
   ],
   "source": [
    "list__.reverse()\n",
    "list__"
   ]
  },
  {
   "cell_type": "code",
   "execution_count": null,
   "id": "3e11647c",
   "metadata": {},
   "outputs": [],
   "source": []
  }
 ],
 "metadata": {
  "kernelspec": {
   "display_name": "Python 3",
   "language": "python",
   "name": "python3"
  },
  "language_info": {
   "codemirror_mode": {
    "name": "ipython",
    "version": 3
   },
   "file_extension": ".py",
   "mimetype": "text/x-python",
   "name": "python",
   "nbconvert_exporter": "python",
   "pygments_lexer": "ipython3",
   "version": "3.8.8"
  }
 },
 "nbformat": 4,
 "nbformat_minor": 5
}
