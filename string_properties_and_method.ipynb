{
 "cells": [
  {
   "cell_type": "markdown",
   "id": "78f6ac91",
   "metadata": {},
   "source": [
    "   ### IMMUTABILITY"
   ]
  },
  {
   "cell_type": "code",
   "execution_count": 3,
   "id": "16bded3e",
   "metadata": {},
   "outputs": [],
   "source": [
    "name = \"siam\"\n",
    "#change this name to \"Piam\"\n",
    "#string cancatination\n",
    "last_letters = name[1:]"
   ]
  },
  {
   "cell_type": "code",
   "execution_count": 4,
   "id": "1abeddad",
   "metadata": {},
   "outputs": [
    {
     "data": {
      "text/plain": [
       "'piam'"
      ]
     },
     "execution_count": 4,
     "metadata": {},
     "output_type": "execute_result"
    }
   ],
   "source": [
    "\"p\" +last_letters "
   ]
  },
  {
   "cell_type": "code",
   "execution_count": 6,
   "id": "553d0f1e",
   "metadata": {},
   "outputs": [
    {
     "name": "stdout",
     "output_type": "stream",
     "text": [
      "zzzzzzzzzz\n"
     ]
    }
   ],
   "source": [
    "letter = 'z'\n",
    "print(letter * 10)"
   ]
  },
  {
   "cell_type": "markdown",
   "id": "d7859965",
   "metadata": {},
   "source": [
    "### methods"
   ]
  },
  {
   "cell_type": "code",
   "execution_count": 7,
   "id": "2dbfdd1e",
   "metadata": {},
   "outputs": [
    {
     "data": {
      "text/plain": [
       "'HELLO WORLD'"
      ]
     },
     "execution_count": 7,
     "metadata": {},
     "output_type": "execute_result"
    }
   ],
   "source": [
    "x = \"hello world\"\n",
    "x.upper()"
   ]
  },
  {
   "cell_type": "code",
   "execution_count": 8,
   "id": "fdc2e516",
   "metadata": {},
   "outputs": [],
   "source": [
    "x = x.upper()"
   ]
  },
  {
   "cell_type": "code",
   "execution_count": 9,
   "id": "d70bb650",
   "metadata": {},
   "outputs": [
    {
     "data": {
      "text/plain": [
       "'HELLO WORLD'"
      ]
     },
     "execution_count": 9,
     "metadata": {},
     "output_type": "execute_result"
    }
   ],
   "source": [
    "x"
   ]
  },
  {
   "cell_type": "code",
   "execution_count": 10,
   "id": "58dcef41",
   "metadata": {},
   "outputs": [],
   "source": [
    "x = x.lower()"
   ]
  },
  {
   "cell_type": "code",
   "execution_count": 11,
   "id": "80b047ae",
   "metadata": {},
   "outputs": [
    {
     "data": {
      "text/plain": [
       "'hello world'"
      ]
     },
     "execution_count": 11,
     "metadata": {},
     "output_type": "execute_result"
    }
   ],
   "source": [
    "x"
   ]
  },
  {
   "cell_type": "code",
   "execution_count": 12,
   "id": "0cf44487",
   "metadata": {},
   "outputs": [
    {
     "data": {
      "text/plain": [
       "['hello', 'world']"
      ]
     },
     "execution_count": 12,
     "metadata": {},
     "output_type": "execute_result"
    }
   ],
   "source": [
    "x.split()"
   ]
  },
  {
   "cell_type": "code",
   "execution_count": 13,
   "id": "f62cd61a",
   "metadata": {},
   "outputs": [
    {
     "data": {
      "text/plain": [
       "['hell', ' w', 'rld']"
      ]
     },
     "execution_count": 13,
     "metadata": {},
     "output_type": "execute_result"
    }
   ],
   "source": [
    "x.split('o')"
   ]
  },
  {
   "cell_type": "code",
   "execution_count": null,
   "id": "e6921e2c",
   "metadata": {},
   "outputs": [],
   "source": []
  }
 ],
 "metadata": {
  "kernelspec": {
   "display_name": "Python 3",
   "language": "python",
   "name": "python3"
  },
  "language_info": {
   "codemirror_mode": {
    "name": "ipython",
    "version": 3
   },
   "file_extension": ".py",
   "mimetype": "text/x-python",
   "name": "python",
   "nbconvert_exporter": "python",
   "pygments_lexer": "ipython3",
   "version": "3.8.8"
  }
 },
 "nbformat": 4,
 "nbformat_minor": 5
}
