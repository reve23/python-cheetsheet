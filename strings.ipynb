{
 "cells": [
  {
   "cell_type": "markdown",
   "id": "f8dc7ae6",
   "metadata": {},
   "source": [
    "#### sequences of chareacter"
   ]
  },
  {
   "cell_type": "code",
   "execution_count": 2,
   "id": "9aa2cb6f",
   "metadata": {},
   "outputs": [
    {
     "data": {
      "text/plain": [
       "'This is a string'"
      ]
     },
     "execution_count": 2,
     "metadata": {},
     "output_type": "execute_result"
    }
   ],
   "source": [
    "\"This is a string\""
   ]
  },
  {
   "cell_type": "code",
   "execution_count": 3,
   "id": "026ab311",
   "metadata": {},
   "outputs": [
    {
     "name": "stdout",
     "output_type": "stream",
     "text": [
      "hello\n"
     ]
    }
   ],
   "source": [
    "print(\"hello\")"
   ]
  },
  {
   "cell_type": "code",
   "execution_count": 5,
   "id": "f4532b77",
   "metadata": {},
   "outputs": [
    {
     "name": "stdout",
     "output_type": "stream",
     "text": [
      "hello \n",
      "world\n"
     ]
    }
   ],
   "source": [
    "print(\"hello \\nworld\")"
   ]
  },
  {
   "cell_type": "code",
   "execution_count": 6,
   "id": "1ca21dbf",
   "metadata": {},
   "outputs": [
    {
     "data": {
      "text/plain": [
       "5"
      ]
     },
     "execution_count": 6,
     "metadata": {},
     "output_type": "execute_result"
    }
   ],
   "source": [
    "len(\"hello\")"
   ]
  },
  {
   "cell_type": "code",
   "execution_count": 7,
   "id": "fa82aa8a",
   "metadata": {},
   "outputs": [
    {
     "data": {
      "text/plain": [
       "17"
      ]
     },
     "execution_count": 7,
     "metadata": {},
     "output_type": "execute_result"
    }
   ],
   "source": [
    "len(\" this is a string\")"
   ]
  },
  {
   "cell_type": "code",
   "execution_count": 8,
   "id": "bb7fada7",
   "metadata": {},
   "outputs": [
    {
     "data": {
      "text/plain": [
       "'Hello world'"
      ]
     },
     "execution_count": 8,
     "metadata": {},
     "output_type": "execute_result"
    }
   ],
   "source": [
    "my_string = \"Hello world\"\n",
    "my_string"
   ]
  },
  {
   "cell_type": "code",
   "execution_count": 9,
   "id": "7158aa43",
   "metadata": {},
   "outputs": [
    {
     "data": {
      "text/plain": [
       "'H'"
      ]
     },
     "execution_count": 9,
     "metadata": {},
     "output_type": "execute_result"
    }
   ],
   "source": [
    "#indexing\n",
    "my_string[0]"
   ]
  },
  {
   "cell_type": "code",
   "execution_count": 10,
   "id": "8233745e",
   "metadata": {},
   "outputs": [
    {
     "data": {
      "text/plain": [
       "11"
      ]
     },
     "execution_count": 10,
     "metadata": {},
     "output_type": "execute_result"
    }
   ],
   "source": [
    "len(my_string)"
   ]
  },
  {
   "cell_type": "code",
   "execution_count": 11,
   "id": "a6e70fb7",
   "metadata": {},
   "outputs": [
    {
     "data": {
      "text/plain": [
       "'r'"
      ]
     },
     "execution_count": 11,
     "metadata": {},
     "output_type": "execute_result"
    }
   ],
   "source": [
    "my_string[8]"
   ]
  },
  {
   "cell_type": "code",
   "execution_count": 12,
   "id": "493a80ab",
   "metadata": {},
   "outputs": [
    {
     "data": {
      "text/plain": [
       "'o'"
      ]
     },
     "execution_count": 12,
     "metadata": {},
     "output_type": "execute_result"
    }
   ],
   "source": [
    "#reverse indexing\n",
    "my_string[-4]"
   ]
  },
  {
   "cell_type": "code",
   "execution_count": 14,
   "id": "a54be072",
   "metadata": {},
   "outputs": [
    {
     "data": {
      "text/plain": [
       "'H'"
      ]
     },
     "execution_count": 14,
     "metadata": {},
     "output_type": "execute_result"
    }
   ],
   "source": [
    "my_string[-11]"
   ]
  },
  {
   "cell_type": "code",
   "execution_count": 19,
   "id": "fa6d5665",
   "metadata": {},
   "outputs": [
    {
     "data": {
      "text/plain": [
       "'Hl'"
      ]
     },
     "execution_count": 19,
     "metadata": {},
     "output_type": "execute_result"
    }
   ],
   "source": [
    "#slicing\n",
    "my_string[:3:2] #[start:stop:step]"
   ]
  },
  {
   "cell_type": "code",
   "execution_count": 20,
   "id": "5ea7fad8",
   "metadata": {},
   "outputs": [
    {
     "data": {
      "text/plain": [
       "'Hello world'"
      ]
     },
     "execution_count": 20,
     "metadata": {},
     "output_type": "execute_result"
    }
   ],
   "source": [
    "my_string[:]"
   ]
  },
  {
   "cell_type": "code",
   "execution_count": 21,
   "id": "a5bc6c72",
   "metadata": {},
   "outputs": [
    {
     "data": {
      "text/plain": [
       "' '"
      ]
     },
     "execution_count": 21,
     "metadata": {},
     "output_type": "execute_result"
    }
   ],
   "source": [
    "my_string[5:6] #to get the space between the two words"
   ]
  },
  {
   "cell_type": "code",
   "execution_count": 23,
   "id": "a80026d0",
   "metadata": {},
   "outputs": [
    {
     "data": {
      "text/plain": [
       "'Hlowrd'"
      ]
     },
     "execution_count": 23,
     "metadata": {},
     "output_type": "execute_result"
    }
   ],
   "source": [
    "my_string[::2]"
   ]
  },
  {
   "cell_type": "code",
   "execution_count": 24,
   "id": "089df2b8",
   "metadata": {},
   "outputs": [
    {
     "data": {
      "text/plain": [
       "'Sa he'"
      ]
     },
     "execution_count": 24,
     "metadata": {},
     "output_type": "execute_result"
    }
   ],
   "source": [
    "my_name = \"Siam Ahmed\"\n",
    "my_name[::2]"
   ]
  },
  {
   "cell_type": "code",
   "execution_count": 25,
   "id": "d8015ca9",
   "metadata": {},
   "outputs": [
    {
     "data": {
      "text/plain": [
       "'a h'"
      ]
     },
     "execution_count": 25,
     "metadata": {},
     "output_type": "execute_result"
    }
   ],
   "source": [
    "my_name[2:7:2]"
   ]
  },
  {
   "cell_type": "code",
   "execution_count": 26,
   "id": "6b6481db",
   "metadata": {},
   "outputs": [
    {
     "data": {
      "text/plain": [
       "10"
      ]
     },
     "execution_count": 26,
     "metadata": {},
     "output_type": "execute_result"
    }
   ],
   "source": [
    "len(my_name)"
   ]
  },
  {
   "cell_type": "code",
   "execution_count": 27,
   "id": "82770054",
   "metadata": {},
   "outputs": [
    {
     "data": {
      "text/plain": [
       "'demhA maiS'"
      ]
     },
     "execution_count": 27,
     "metadata": {},
     "output_type": "execute_result"
    }
   ],
   "source": [
    "#reverse a string\n",
    "my_name[::-1]"
   ]
  }
 ],
 "metadata": {
  "kernelspec": {
   "display_name": "Python 3",
   "language": "python",
   "name": "python3"
  },
  "language_info": {
   "codemirror_mode": {
    "name": "ipython",
    "version": 3
   },
   "file_extension": ".py",
   "mimetype": "text/x-python",
   "name": "python",
   "nbconvert_exporter": "python",
   "pygments_lexer": "ipython3",
   "version": "3.8.8"
  }
 },
 "nbformat": 4,
 "nbformat_minor": 5
}
