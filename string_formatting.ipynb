{
 "cells": [
  {
   "cell_type": "markdown",
   "id": "ee1db811",
   "metadata": {},
   "source": [
    "### .format method"
   ]
  },
  {
   "cell_type": "code",
   "execution_count": 2,
   "id": "5c56a1e0",
   "metadata": {},
   "outputs": [
    {
     "name": "stdout",
     "output_type": "stream",
     "text": [
      "this is a string Inserter\n"
     ]
    }
   ],
   "source": [
    "print(\"this is a string {}\".format(\"Inserter\"))"
   ]
  },
  {
   "cell_type": "code",
   "execution_count": 4,
   "id": "c675598e",
   "metadata": {},
   "outputs": [
    {
     "name": "stdout",
     "output_type": "stream",
     "text": [
      "The quick brown fox\n"
     ]
    }
   ],
   "source": [
    "print(\"The {2} {1} {0}\".format(\"fox\",\"brown\",\"quick\"))"
   ]
  },
  {
   "cell_type": "code",
   "execution_count": 5,
   "id": "e880af9e",
   "metadata": {},
   "outputs": [
    {
     "name": "stdout",
     "output_type": "stream",
     "text": [
      "the quick brown fox\n"
     ]
    }
   ],
   "source": [
    "print(\"the {q} {b} {f}\".format(f='fox',b=\"brown\",q=\"quick\"))"
   ]
  },
  {
   "cell_type": "markdown",
   "id": "c7efedf6",
   "metadata": {},
   "source": [
    "##### float formatting follows \"{value:width.precision f}\""
   ]
  },
  {
   "cell_type": "code",
   "execution_count": 17,
   "id": "a2852d0f",
   "metadata": {},
   "outputs": [
    {
     "data": {
      "text/plain": [
       "0.1287001287001287"
      ]
     },
     "execution_count": 17,
     "metadata": {},
     "output_type": "execute_result"
    }
   ],
   "source": [
    "result =100/777\n",
    "result"
   ]
  },
  {
   "cell_type": "code",
   "execution_count": 18,
   "id": "619e69d6",
   "metadata": {},
   "outputs": [
    {
     "name": "stdout",
     "output_type": "stream",
     "text": [
      "the result was 0.129\n"
     ]
    }
   ],
   "source": [
    "print(\"the result was {r:1.3f}\".format(r=result))"
   ]
  },
  {
   "cell_type": "markdown",
   "id": "c208bf18",
   "metadata": {},
   "source": [
    "### f string"
   ]
  },
  {
   "cell_type": "code",
   "execution_count": 19,
   "id": "fa5966ee",
   "metadata": {},
   "outputs": [
    {
     "name": "stdout",
     "output_type": "stream",
     "text": [
      "Hi, My name is siam. I am 17 years old. My email address id znith347@gmail.com\n"
     ]
    }
   ],
   "source": [
    "name = \"siam\"\n",
    "age = 17\n",
    "email = \"znith347@gmail.com\"\n",
    "\n",
    "print(f\"Hi, My name is {name}. I am {age} years old. My email address id {email}\")"
   ]
  }
 ],
 "metadata": {
  "kernelspec": {
   "display_name": "Python 3",
   "language": "python",
   "name": "python3"
  },
  "language_info": {
   "codemirror_mode": {
    "name": "ipython",
    "version": 3
   },
   "file_extension": ".py",
   "mimetype": "text/x-python",
   "name": "python",
   "nbconvert_exporter": "python",
   "pygments_lexer": "ipython3",
   "version": "3.8.8"
  }
 },
 "nbformat": 4,
 "nbformat_minor": 5
}
