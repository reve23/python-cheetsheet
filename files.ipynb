{
 "cells": [
  {
   "cell_type": "code",
   "execution_count": 1,
   "id": "4abddf5f",
   "metadata": {},
   "outputs": [
    {
     "name": "stdout",
     "output_type": "stream",
     "text": [
      "Writing myfile.txt\n"
     ]
    }
   ],
   "source": [
    "%%writefile myfile.txt\n",
    "hello is a text file\n",
    "this the second line\n",
    "this is the third line"
   ]
  },
  {
   "cell_type": "code",
   "execution_count": 27,
   "id": "eb293347",
   "metadata": {},
   "outputs": [],
   "source": [
    "myfile = open('myfile.txt')"
   ]
  },
  {
   "cell_type": "code",
   "execution_count": 28,
   "id": "7f8fc34a",
   "metadata": {},
   "outputs": [
    {
     "data": {
      "text/plain": [
       "'F:\\\\python-bootcamp'"
      ]
     },
     "execution_count": 28,
     "metadata": {},
     "output_type": "execute_result"
    }
   ],
   "source": [
    "pwd"
   ]
  },
  {
   "cell_type": "code",
   "execution_count": 29,
   "id": "a2bb282a",
   "metadata": {},
   "outputs": [],
   "source": [
    "contents = myfile.read()"
   ]
  },
  {
   "cell_type": "code",
   "execution_count": 30,
   "id": "68d73be0",
   "metadata": {},
   "outputs": [
    {
     "data": {
      "text/plain": [
       "0"
      ]
     },
     "execution_count": 30,
     "metadata": {},
     "output_type": "execute_result"
    }
   ],
   "source": [
    "myfile.seek(0)"
   ]
  },
  {
   "cell_type": "code",
   "execution_count": 31,
   "id": "a67f6221",
   "metadata": {},
   "outputs": [
    {
     "data": {
      "text/plain": [
       "'hello is a text file\\nthis the second line\\nthis is the third line\\n'"
      ]
     },
     "execution_count": 31,
     "metadata": {},
     "output_type": "execute_result"
    }
   ],
   "source": [
    "content"
   ]
  },
  {
   "cell_type": "code",
   "execution_count": 32,
   "id": "75ff0d47",
   "metadata": {},
   "outputs": [
    {
     "data": {
      "text/plain": [
       "['hello is a text file\\n',\n",
       " 'this the second line\\n',\n",
       " 'this is the third line\\n']"
      ]
     },
     "execution_count": 32,
     "metadata": {},
     "output_type": "execute_result"
    }
   ],
   "source": [
    "myfile.readlines()"
   ]
  },
  {
   "cell_type": "code",
   "execution_count": 33,
   "id": "5654780c",
   "metadata": {},
   "outputs": [],
   "source": [
    "myfile.close()"
   ]
  },
  {
   "cell_type": "code",
   "execution_count": 34,
   "id": "ec752db5",
   "metadata": {},
   "outputs": [],
   "source": [
    "with open('myfile.txt') as new_file:\n",
    "    content = new_file.read()"
   ]
  },
  {
   "cell_type": "code",
   "execution_count": 35,
   "id": "a6cdb5fa",
   "metadata": {},
   "outputs": [
    {
     "data": {
      "text/plain": [
       "'hello is a text file\\nthis the second line\\nthis is the third line\\n'"
      ]
     },
     "execution_count": 35,
     "metadata": {},
     "output_type": "execute_result"
    }
   ],
   "source": [
    "content"
   ]
  },
  {
   "cell_type": "code",
   "execution_count": 36,
   "id": "47264380",
   "metadata": {},
   "outputs": [],
   "source": [
    "with open('myfile.txt',mode='r') as new_file:\n",
    "    content = new_file.read()"
   ]
  },
  {
   "cell_type": "markdown",
   "id": "7fc1d442",
   "metadata": {},
   "source": [
    "### reading ,Writting, Appending\n",
    "#### mode = r is read only\n",
    "#### mode = w is write only\n",
    "#### mode = a is append only\n",
    "#### mode = r+ is reading and writing\n",
    "#### mode = w+ is writing and reading"
   ]
  },
  {
   "cell_type": "code",
   "execution_count": 37,
   "id": "509b9d6f",
   "metadata": {},
   "outputs": [],
   "source": [
    "with open('myfile.txt',mode='a') as f:\n",
    "    f.write(\"Four on four\")"
   ]
  },
  {
   "cell_type": "code",
   "execution_count": 38,
   "id": "33e32344",
   "metadata": {},
   "outputs": [
    {
     "name": "stdout",
     "output_type": "stream",
     "text": [
      "hello is a text file\n",
      "this the second line\n",
      "this is the third line\n",
      "Four on four\n"
     ]
    }
   ],
   "source": [
    "with open('myfile.txt',mode='r') as f:\n",
    "    print(f.read())"
   ]
  },
  {
   "cell_type": "code",
   "execution_count": null,
   "id": "306429d6",
   "metadata": {},
   "outputs": [],
   "source": []
  }
 ],
 "metadata": {
  "kernelspec": {
   "display_name": "Python 3",
   "language": "python",
   "name": "python3"
  },
  "language_info": {
   "codemirror_mode": {
    "name": "ipython",
    "version": 3
   },
   "file_extension": ".py",
   "mimetype": "text/x-python",
   "name": "python",
   "nbconvert_exporter": "python",
   "pygments_lexer": "ipython3",
   "version": "3.8.8"
  }
 },
 "nbformat": 4,
 "nbformat_minor": 5
}
